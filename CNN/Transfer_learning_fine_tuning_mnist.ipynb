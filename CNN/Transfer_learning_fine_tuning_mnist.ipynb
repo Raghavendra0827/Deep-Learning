{
 "cells": [
  {
   "cell_type": "code",
   "execution_count": 1,
   "id": "faddea4d",
   "metadata": {},
   "outputs": [
    {
     "name": "stdout",
     "output_type": "stream",
     "text": [
      "WARNING:tensorflow:From C:\\Users\\ragha\\anaconda3\\Lib\\site-packages\\keras\\src\\losses.py:2976: The name tf.losses.sparse_softmax_cross_entropy is deprecated. Please use tf.compat.v1.losses.sparse_softmax_cross_entropy instead.\n",
      "\n"
     ]
    }
   ],
   "source": [
    "import pandas as pd\n",
    "import numpy as np\n",
    "import matplotlib.pyplot as plt\n",
    "import seaborn as sns\n",
    "import tensorflow as tf\n",
    "import keras\n",
    "from keras.datasets import mnist\n",
    "from keras.models import Sequential\n",
    "from keras.layers import Dense, Dropout, Activation, Flatten\n",
    "from keras.layers import Conv2D, MaxPooling2D"
   ]
  },
  {
   "cell_type": "code",
   "execution_count": 2,
   "id": "969845b1",
   "metadata": {},
   "outputs": [],
   "source": [
    "(x_train, y_train), (x_test, y_test) = mnist.load_data()"
   ]
  },
  {
   "cell_type": "code",
   "execution_count": 3,
   "id": "60da292c",
   "metadata": {},
   "outputs": [],
   "source": [
    "x_train_7 = x_train[y_train < 7]\n",
    "y_train_7 = y_train[y_train < 7]\n",
    "x_test_7 = x_test[y_test < 7]\n",
    "y_test_7 = y_test[y_test < 7]\n",
    "input_shape = (28, 28, 1)"
   ]
  },
  {
   "cell_type": "code",
   "execution_count": 4,
   "id": "8a781b0a",
   "metadata": {},
   "outputs": [],
   "source": [
    "def format_data(train, test, num_classes):\n",
    "    x_train = train[0].reshape((train[0].shape[0],) + input_shape)\n",
    "    x_test = test[0].reshape((test[0].shape[0],) + input_shape)\n",
    "    x_train = x_train.astype('float32')\n",
    "    x_test = x_test.astype('float32')\n",
    "    x_train /= 255\n",
    "    x_test /= 255\n",
    "    y_train = keras.utils.to_categorical(train[1], num_classes)\n",
    "    y_test = keras.utils.to_categorical(test[1], num_classes)\n",
    "    return x_train, x_test, y_train, y_test"
   ]
  },
  {
   "cell_type": "code",
   "execution_count": 5,
   "id": "0ba3c337",
   "metadata": {},
   "outputs": [],
   "source": [
    "x_train_7, x_test_7, y_train_7, y_test_7 = format_data((x_train_7, y_train_7), (x_test_7, y_test_7), 7)"
   ]
  },
  {
   "cell_type": "code",
   "execution_count": 6,
   "id": "03fa6312",
   "metadata": {},
   "outputs": [
    {
     "name": "stdout",
     "output_type": "stream",
     "text": [
      "WARNING:tensorflow:From C:\\Users\\ragha\\anaconda3\\Lib\\site-packages\\keras\\src\\backend.py:873: The name tf.get_default_graph is deprecated. Please use tf.compat.v1.get_default_graph instead.\n",
      "\n",
      "WARNING:tensorflow:From C:\\Users\\ragha\\anaconda3\\Lib\\site-packages\\keras\\src\\layers\\pooling\\max_pooling2d.py:161: The name tf.nn.max_pool is deprecated. Please use tf.nn.max_pool2d instead.\n",
      "\n"
     ]
    }
   ],
   "source": [
    "Feature_layers = [\n",
    "    Conv2D(32, (3, 3), padding='valid', input_shape=input_shape),\n",
    "    Activation('relu'),\n",
    "    Conv2D(32, (3, 3)),\n",
    "    Activation('relu'),\n",
    "    MaxPooling2D(pool_size=(2, 2)),\n",
    "    Dropout(0.25),\n",
    "    Flatten(),\n",
    "]"
   ]
  },
  {
   "cell_type": "code",
   "execution_count": 7,
   "id": "f4c9eabd",
   "metadata": {},
   "outputs": [],
   "source": [
    "Classification_layers_7 = [\n",
    "    Dense(128),\n",
    "    Activation('relu'),\n",
    "    Dropout(0.5),\n",
    "    Dense(7),\n",
    "    Activation('softmax')\n",
    "]"
   ]
  },
  {
   "cell_type": "code",
   "execution_count": 8,
   "id": "9ccfc875",
   "metadata": {},
   "outputs": [],
   "source": [
    "model_7 = Sequential(Feature_layers + Classification_layers_7)"
   ]
  },
  {
   "cell_type": "code",
   "execution_count": 9,
   "id": "ef7662a1",
   "metadata": {},
   "outputs": [
    {
     "name": "stdout",
     "output_type": "stream",
     "text": [
      "Model: \"sequential\"\n",
      "_________________________________________________________________\n",
      " Layer (type)                Output Shape              Param #   \n",
      "=================================================================\n",
      " conv2d (Conv2D)             (None, 26, 26, 32)        320       \n",
      "                                                                 \n",
      " activation (Activation)     (None, 26, 26, 32)        0         \n",
      "                                                                 \n",
      " conv2d_1 (Conv2D)           (None, 24, 24, 32)        9248      \n",
      "                                                                 \n",
      " activation_1 (Activation)   (None, 24, 24, 32)        0         \n",
      "                                                                 \n",
      " max_pooling2d (MaxPooling2  (None, 12, 12, 32)        0         \n",
      " D)                                                              \n",
      "                                                                 \n",
      " dropout (Dropout)           (None, 12, 12, 32)        0         \n",
      "                                                                 \n",
      " flatten (Flatten)           (None, 4608)              0         \n",
      "                                                                 \n",
      " dense (Dense)               (None, 128)               589952    \n",
      "                                                                 \n",
      " activation_2 (Activation)   (None, 128)               0         \n",
      "                                                                 \n",
      " dropout_1 (Dropout)         (None, 128)               0         \n",
      "                                                                 \n",
      " dense_1 (Dense)             (None, 7)                 903       \n",
      "                                                                 \n",
      " activation_3 (Activation)   (None, 7)                 0         \n",
      "                                                                 \n",
      "=================================================================\n",
      "Total params: 600423 (2.29 MB)\n",
      "Trainable params: 600423 (2.29 MB)\n",
      "Non-trainable params: 0 (0.00 Byte)\n",
      "_________________________________________________________________\n"
     ]
    }
   ],
   "source": [
    "model_7.summary()"
   ]
  },
  {
   "cell_type": "code",
   "execution_count": 10,
   "id": "daeb3bb5",
   "metadata": {},
   "outputs": [
    {
     "name": "stdout",
     "output_type": "stream",
     "text": [
      "WARNING:tensorflow:From C:\\Users\\ragha\\anaconda3\\Lib\\site-packages\\keras\\src\\optimizers\\__init__.py:309: The name tf.train.Optimizer is deprecated. Please use tf.compat.v1.train.Optimizer instead.\n",
      "\n"
     ]
    }
   ],
   "source": [
    "model_7.compile(loss='categorical_crossentropy',\n",
    "                optimizer='adadelta',\n",
    "                metrics=['accuracy'])"
   ]
  },
  {
   "cell_type": "code",
   "execution_count": 11,
   "id": "40c4b098",
   "metadata": {},
   "outputs": [
    {
     "name": "stdout",
     "output_type": "stream",
     "text": [
      "Epoch 1/5\n",
      "WARNING:tensorflow:From C:\\Users\\ragha\\anaconda3\\Lib\\site-packages\\keras\\src\\utils\\tf_utils.py:492: The name tf.ragged.RaggedTensorValue is deprecated. Please use tf.compat.v1.ragged.RaggedTensorValue instead.\n",
      "\n",
      "WARNING:tensorflow:From C:\\Users\\ragha\\anaconda3\\Lib\\site-packages\\keras\\src\\engine\\base_layer_utils.py:384: The name tf.executing_eagerly_outside_functions is deprecated. Please use tf.compat.v1.executing_eagerly_outside_functions instead.\n",
      "\n",
      "1311/1311 [==============================] - 37s 26ms/step - loss: 1.9124 - accuracy: 0.1991 - val_loss: 1.8424 - val_accuracy: 0.4208\n",
      "Epoch 2/5\n",
      "1311/1311 [==============================] - 33s 25ms/step - loss: 1.7920 - accuracy: 0.4014 - val_loss: 1.6844 - val_accuracy: 0.7728\n",
      "Epoch 3/5\n",
      "1311/1311 [==============================] - 33s 25ms/step - loss: 1.6161 - accuracy: 0.5744 - val_loss: 1.4436 - val_accuracy: 0.8266\n",
      "Epoch 4/5\n",
      "1311/1311 [==============================] - 33s 25ms/step - loss: 1.3750 - accuracy: 0.6768 - val_loss: 1.1415 - val_accuracy: 0.8516\n",
      "Epoch 5/5\n",
      "1311/1311 [==============================] - 33s 25ms/step - loss: 1.1185 - accuracy: 0.7334 - val_loss: 0.8610 - val_accuracy: 0.8668\n"
     ]
    },
    {
     "data": {
      "text/plain": [
       "<keras.src.callbacks.History at 0x280a42b0490>"
      ]
     },
     "execution_count": 11,
     "metadata": {},
     "output_type": "execute_result"
    }
   ],
   "source": [
    "model_7.fit(x_train_7, y_train_7,\n",
    "            batch_size=32,\n",
    "            epochs=5,\n",
    "            verbose=1,\n",
    "            validation_data=(x_test_7, y_test_7))"
   ]
  },
  {
   "cell_type": "code",
   "execution_count": 12,
   "id": "d8c3ada6",
   "metadata": {},
   "outputs": [
    {
     "name": "stdout",
     "output_type": "stream",
     "text": [
      "Test accuracy on digits 0-6: 86.68%\n"
     ]
    }
   ],
   "source": [
    "score_7 = model_7.evaluate(x_test_7, y_test_7, verbose=0)\n",
    "print(f\"Test accuracy on digits 0-6: {score_7[1] * 100:.2f}%\")"
   ]
  },
  {
   "cell_type": "markdown",
   "id": "a7bb60d1",
   "metadata": {},
   "source": [
    "#  Freeze the Feature_layers "
   ]
  },
  {
   "cell_type": "code",
   "execution_count": 13,
   "id": "969197da",
   "metadata": {},
   "outputs": [],
   "source": [
    "for layer in Feature_layers:\n",
    "    layer.trainable = False"
   ]
  },
  {
   "cell_type": "code",
   "execution_count": 14,
   "id": "33215f00",
   "metadata": {},
   "outputs": [],
   "source": [
    "x_train_7to9 = x_train[y_train >= 7]\n",
    "y_train_7to9 = y_train[y_train >= 7] - 7  # To make labels 0, 1, 2\n",
    "x_test_7to9 = x_test[y_test >= 7]\n",
    "y_test_7to9 = y_test[y_test >= 7] - 7  # To make labels 0, 1, 2"
   ]
  },
  {
   "cell_type": "code",
   "execution_count": 15,
   "id": "5b0edc58",
   "metadata": {},
   "outputs": [],
   "source": [
    "x_train_7to9, x_test_7to9, y_train_7to9, y_test_7to9 = format_data((x_train_7to9, y_train_7to9), (x_test_7to9, y_test_7to9), 3)"
   ]
  },
  {
   "cell_type": "code",
   "execution_count": 16,
   "id": "08c7b4fe",
   "metadata": {},
   "outputs": [],
   "source": [
    "Classification_layers_3 = [\n",
    "    Dense(128),\n",
    "    Activation('relu'),\n",
    "    Dropout(0.5),\n",
    "    Dense(3),\n",
    "    Activation('softmax')\n",
    "]"
   ]
  },
  {
   "cell_type": "code",
   "execution_count": 17,
   "id": "4183b688",
   "metadata": {},
   "outputs": [],
   "source": [
    "model_7to9 = Sequential(Feature_layers + Classification_layers_3)"
   ]
  },
  {
   "cell_type": "code",
   "execution_count": 18,
   "id": "8ab4abcc",
   "metadata": {},
   "outputs": [
    {
     "name": "stdout",
     "output_type": "stream",
     "text": [
      "Model: \"sequential_1\"\n",
      "_________________________________________________________________\n",
      " Layer (type)                Output Shape              Param #   \n",
      "=================================================================\n",
      " conv2d (Conv2D)             (None, 26, 26, 32)        320       \n",
      "                                                                 \n",
      " activation (Activation)     (None, 26, 26, 32)        0         \n",
      "                                                                 \n",
      " conv2d_1 (Conv2D)           (None, 24, 24, 32)        9248      \n",
      "                                                                 \n",
      " activation_1 (Activation)   (None, 24, 24, 32)        0         \n",
      "                                                                 \n",
      " max_pooling2d (MaxPooling2  (None, 12, 12, 32)        0         \n",
      " D)                                                              \n",
      "                                                                 \n",
      " dropout (Dropout)           (None, 12, 12, 32)        0         \n",
      "                                                                 \n",
      " flatten (Flatten)           (None, 4608)              0         \n",
      "                                                                 \n",
      " dense_2 (Dense)             (None, 128)               589952    \n",
      "                                                                 \n",
      " activation_4 (Activation)   (None, 128)               0         \n",
      "                                                                 \n",
      " dropout_2 (Dropout)         (None, 128)               0         \n",
      "                                                                 \n",
      " dense_3 (Dense)             (None, 3)                 387       \n",
      "                                                                 \n",
      " activation_5 (Activation)   (None, 3)                 0         \n",
      "                                                                 \n",
      "=================================================================\n",
      "Total params: 599907 (2.29 MB)\n",
      "Trainable params: 590339 (2.25 MB)\n",
      "Non-trainable params: 9568 (37.38 KB)\n",
      "_________________________________________________________________\n"
     ]
    }
   ],
   "source": [
    "model_7to9.summary()"
   ]
  },
  {
   "cell_type": "markdown",
   "id": "4f57b28c",
   "metadata": {},
   "source": [
    "# Here we can see that the number of trainable parameters is reduced because we froze the earlier layers."
   ]
  },
  {
   "cell_type": "code",
   "execution_count": 19,
   "id": "4a1572e9",
   "metadata": {},
   "outputs": [],
   "source": [
    "model_7to9.compile(loss='categorical_crossentropy',\n",
    "                   optimizer='adadelta',\n",
    "                   metrics=['accuracy'])"
   ]
  },
  {
   "cell_type": "code",
   "execution_count": 20,
   "id": "ba16b7c3",
   "metadata": {},
   "outputs": [
    {
     "name": "stdout",
     "output_type": "stream",
     "text": [
      "Epoch 1/5\n",
      "565/565 [==============================] - 13s 19ms/step - loss: 1.0836 - accuracy: 0.3991 - val_loss: 0.9627 - val_accuracy: 0.6852\n",
      "Epoch 2/5\n",
      "565/565 [==============================] - 11s 19ms/step - loss: 0.9522 - accuracy: 0.5857 - val_loss: 0.8463 - val_accuracy: 0.8579\n",
      "Epoch 3/5\n",
      "565/565 [==============================] - 10s 18ms/step - loss: 0.8560 - accuracy: 0.7007 - val_loss: 0.7542 - val_accuracy: 0.8838\n",
      "Epoch 4/5\n",
      "565/565 [==============================] - 11s 19ms/step - loss: 0.7761 - accuracy: 0.7586 - val_loss: 0.6794 - val_accuracy: 0.8960\n",
      "Epoch 5/5\n",
      "565/565 [==============================] - 11s 19ms/step - loss: 0.7084 - accuracy: 0.7965 - val_loss: 0.6172 - val_accuracy: 0.9000\n"
     ]
    },
    {
     "data": {
      "text/plain": [
       "<keras.src.callbacks.History at 0x280a308f790>"
      ]
     },
     "execution_count": 20,
     "metadata": {},
     "output_type": "execute_result"
    }
   ],
   "source": [
    "model_7to9.fit(x_train_7to9, y_train_7to9,\n",
    "               batch_size=32,\n",
    "               epochs=5,\n",
    "               verbose=1,\n",
    "               validation_data=(x_test_7to9, y_test_7to9))"
   ]
  },
  {
   "cell_type": "code",
   "execution_count": 21,
   "id": "8a0d3a5b",
   "metadata": {},
   "outputs": [
    {
     "name": "stdout",
     "output_type": "stream",
     "text": [
      "Test accuracy on digits 7-9: 90.00%\n"
     ]
    }
   ],
   "source": [
    "score_7to9 = model_7to9.evaluate(x_test_7to9, y_test_7to9, verbose=0)\n",
    "print(f\"Test accuracy on digits 7-9: {score_7to9[1] * 100:.2f}%\")"
   ]
  },
  {
   "cell_type": "markdown",
   "id": "ca6bedcd",
   "metadata": {},
   "source": [
    "# Now use the Pretrained model i.e Model_7"
   ]
  },
  {
   "cell_type": "code",
   "execution_count": 22,
   "id": "e6ba1007",
   "metadata": {},
   "outputs": [],
   "source": [
    "model_7.pop() ##drop softmax layer"
   ]
  },
  {
   "cell_type": "code",
   "execution_count": 23,
   "id": "92eddc60",
   "metadata": {},
   "outputs": [],
   "source": [
    "model_7.pop()## drop Dense(7) beacuse it classifies 7 class"
   ]
  },
  {
   "cell_type": "code",
   "execution_count": 24,
   "id": "1b73d81d",
   "metadata": {},
   "outputs": [
    {
     "name": "stdout",
     "output_type": "stream",
     "text": [
      "Model: \"sequential\"\n",
      "_________________________________________________________________\n",
      " Layer (type)                Output Shape              Param #   \n",
      "=================================================================\n",
      " conv2d (Conv2D)             (None, 26, 26, 32)        320       \n",
      "                                                                 \n",
      " activation (Activation)     (None, 26, 26, 32)        0         \n",
      "                                                                 \n",
      " conv2d_1 (Conv2D)           (None, 24, 24, 32)        9248      \n",
      "                                                                 \n",
      " activation_1 (Activation)   (None, 24, 24, 32)        0         \n",
      "                                                                 \n",
      " max_pooling2d (MaxPooling2  (None, 12, 12, 32)        0         \n",
      " D)                                                              \n",
      "                                                                 \n",
      " dropout (Dropout)           (None, 12, 12, 32)        0         \n",
      "                                                                 \n",
      " flatten (Flatten)           (None, 4608)              0         \n",
      "                                                                 \n",
      " dense (Dense)               (None, 128)               589952    \n",
      "                                                                 \n",
      " activation_2 (Activation)   (None, 128)               0         \n",
      "                                                                 \n",
      " dropout_1 (Dropout)         (None, 128)               0         \n",
      "                                                                 \n",
      "=================================================================\n",
      "Total params: 599520 (2.29 MB)\n",
      "Trainable params: 589952 (2.25 MB)\n",
      "Non-trainable params: 9568 (37.38 KB)\n",
      "_________________________________________________________________\n"
     ]
    }
   ],
   "source": [
    "model_7.summary()"
   ]
  },
  {
   "cell_type": "code",
   "execution_count": 25,
   "id": "7fcca247",
   "metadata": {},
   "outputs": [],
   "source": [
    "model_7.add(Dense(3))\n",
    "model_7.add(Activation(\"softmax\")) ## add dense layer with 3 classes"
   ]
  },
  {
   "cell_type": "code",
   "execution_count": 26,
   "id": "ab418703",
   "metadata": {},
   "outputs": [
    {
     "name": "stdout",
     "output_type": "stream",
     "text": [
      "Model: \"sequential\"\n",
      "_________________________________________________________________\n",
      " Layer (type)                Output Shape              Param #   \n",
      "=================================================================\n",
      " conv2d (Conv2D)             (None, 26, 26, 32)        320       \n",
      "                                                                 \n",
      " activation (Activation)     (None, 26, 26, 32)        0         \n",
      "                                                                 \n",
      " conv2d_1 (Conv2D)           (None, 24, 24, 32)        9248      \n",
      "                                                                 \n",
      " activation_1 (Activation)   (None, 24, 24, 32)        0         \n",
      "                                                                 \n",
      " max_pooling2d (MaxPooling2  (None, 12, 12, 32)        0         \n",
      " D)                                                              \n",
      "                                                                 \n",
      " dropout (Dropout)           (None, 12, 12, 32)        0         \n",
      "                                                                 \n",
      " flatten (Flatten)           (None, 4608)              0         \n",
      "                                                                 \n",
      " dense (Dense)               (None, 128)               589952    \n",
      "                                                                 \n",
      " activation_2 (Activation)   (None, 128)               0         \n",
      "                                                                 \n",
      " dropout_1 (Dropout)         (None, 128)               0         \n",
      "                                                                 \n",
      " dense_4 (Dense)             (None, 3)                 387       \n",
      "                                                                 \n",
      " activation_6 (Activation)   (None, 3)                 0         \n",
      "                                                                 \n",
      "=================================================================\n",
      "Total params: 599907 (2.29 MB)\n",
      "Trainable params: 590339 (2.25 MB)\n",
      "Non-trainable params: 9568 (37.38 KB)\n",
      "_________________________________________________________________\n"
     ]
    }
   ],
   "source": [
    "model_7.summary()"
   ]
  },
  {
   "cell_type": "code",
   "execution_count": 27,
   "id": "159d0eb9",
   "metadata": {},
   "outputs": [],
   "source": [
    "model_7.compile(loss='categorical_crossentropy',\n",
    "                   optimizer='adadelta',\n",
    "                   metrics=['accuracy'])"
   ]
  },
  {
   "cell_type": "code",
   "execution_count": 28,
   "id": "82494484",
   "metadata": {},
   "outputs": [
    {
     "name": "stdout",
     "output_type": "stream",
     "text": [
      "Epoch 1/5\n",
      "565/565 [==============================] - 12s 19ms/step - loss: 1.0966 - accuracy: 0.4085 - val_loss: 0.9208 - val_accuracy: 0.6891\n",
      "Epoch 2/5\n",
      "565/565 [==============================] - 10s 18ms/step - loss: 0.9530 - accuracy: 0.5414 - val_loss: 0.8005 - val_accuracy: 0.8310\n",
      "Epoch 3/5\n",
      "565/565 [==============================] - 10s 18ms/step - loss: 0.8444 - accuracy: 0.6452 - val_loss: 0.7034 - val_accuracy: 0.8625\n",
      "Epoch 4/5\n",
      "565/565 [==============================] - 10s 18ms/step - loss: 0.7482 - accuracy: 0.7258 - val_loss: 0.6233 - val_accuracy: 0.8831\n",
      "Epoch 5/5\n",
      "565/565 [==============================] - 10s 18ms/step - loss: 0.6746 - accuracy: 0.7722 - val_loss: 0.5577 - val_accuracy: 0.8937\n"
     ]
    },
    {
     "data": {
      "text/plain": [
       "<keras.src.callbacks.History at 0x280bca46450>"
      ]
     },
     "execution_count": 28,
     "metadata": {},
     "output_type": "execute_result"
    }
   ],
   "source": [
    "model_7.fit(x_train_7to9, y_train_7to9,\n",
    "               batch_size=32,\n",
    "               epochs=5,\n",
    "               verbose=1,\n",
    "               validation_data=(x_test_7to9, y_test_7to9))"
   ]
  },
  {
   "cell_type": "code",
   "execution_count": null,
   "id": "fa386ed9",
   "metadata": {},
   "outputs": [],
   "source": []
  }
 ],
 "metadata": {
  "kernelspec": {
   "display_name": "Python 3 (ipykernel)",
   "language": "python",
   "name": "python3"
  },
  "language_info": {
   "codemirror_mode": {
    "name": "ipython",
    "version": 3
   },
   "file_extension": ".py",
   "mimetype": "text/x-python",
   "name": "python",
   "nbconvert_exporter": "python",
   "pygments_lexer": "ipython3",
   "version": "3.11.5"
  }
 },
 "nbformat": 4,
 "nbformat_minor": 5
}
